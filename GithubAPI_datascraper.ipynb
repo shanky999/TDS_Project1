{
  "nbformat": 4,
  "nbformat_minor": 0,
  "metadata": {
    "colab": {
      "provenance": []
    },
    "kernelspec": {
      "name": "python3",
      "display_name": "Python 3"
    },
    "language_info": {
      "name": "python"
    }
  },
  "cells": [
    {
      "cell_type": "code",
      "execution_count": 1,
      "metadata": {
        "colab": {
          "base_uri": "https://localhost:8080/"
        },
        "id": "2q5nlkOZ5Igr",
        "outputId": "81b197cd-af26-4e69-f0ff-1ab72c6c3d56"
      },
      "outputs": [
        {
          "output_type": "stream",
          "name": "stdout",
          "text": [
            "Requirement already satisfied: requests in /usr/local/lib/python3.10/dist-packages (2.32.3)\n",
            "Requirement already satisfied: pandas in /usr/local/lib/python3.10/dist-packages (2.2.2)\n",
            "Requirement already satisfied: charset-normalizer<4,>=2 in /usr/local/lib/python3.10/dist-packages (from requests) (3.4.0)\n",
            "Requirement already satisfied: idna<4,>=2.5 in /usr/local/lib/python3.10/dist-packages (from requests) (3.10)\n",
            "Requirement already satisfied: urllib3<3,>=1.21.1 in /usr/local/lib/python3.10/dist-packages (from requests) (2.2.3)\n",
            "Requirement already satisfied: certifi>=2017.4.17 in /usr/local/lib/python3.10/dist-packages (from requests) (2024.8.30)\n",
            "Requirement already satisfied: numpy>=1.22.4 in /usr/local/lib/python3.10/dist-packages (from pandas) (1.26.4)\n",
            "Requirement already satisfied: python-dateutil>=2.8.2 in /usr/local/lib/python3.10/dist-packages (from pandas) (2.8.2)\n",
            "Requirement already satisfied: pytz>=2020.1 in /usr/local/lib/python3.10/dist-packages (from pandas) (2024.2)\n",
            "Requirement already satisfied: tzdata>=2022.7 in /usr/local/lib/python3.10/dist-packages (from pandas) (2024.2)\n",
            "Requirement already satisfied: six>=1.5 in /usr/local/lib/python3.10/dist-packages (from python-dateutil>=2.8.2->pandas) (1.16.0)\n"
          ]
        }
      ],
      "source": [
        "# Install the required libraries\n",
        "!pip install requests pandas\n"
      ]
    },
    {
      "cell_type": "code",
      "source": [
        "import time\n",
        "import requests\n",
        "import pandas as pd\n"
      ],
      "metadata": {
        "id": "WlVpaRFzsPtf"
      },
      "execution_count": 1,
      "outputs": []
    },
    {
      "cell_type": "code",
      "source": [
        "YOUR_GITHUB_TOKEN = \"GITHUB TOKEN\"  # Replace with your actual GitHub token\n",
        "BASE_URL = \"https://api.github.com\"\n",
        "\n",
        "def make_request(url):\n",
        "    headers = {'Authorization': f'token {YOUR_GITHUB_TOKEN}'}\n",
        "    for attempt in range(3):  # Retry mechanism\n",
        "        try:\n",
        "            response = requests.get(url, headers=headers, timeout=10)\n",
        "            response.raise_for_status()  # Raise error for bad status\n",
        "            return response.json()\n",
        "        except requests.exceptions.RequestException as e:\n",
        "            print(f\"Request failed: {e}. Retrying...\")\n",
        "            time.sleep(2)\n",
        "    print(f\"Failed to fetch data from {url} after 3 attempts.\")\n",
        "    return {}\n",
        "\n"
      ],
      "metadata": {
        "id": "7Gl8DIpksYUS"
      },
      "execution_count": 2,
      "outputs": []
    },
    {
      "cell_type": "code",
      "source": [
        "def get_users_in_chennai(min_followers=50):\n",
        "    url = f\"{BASE_URL}/search/users?q=location:Chennai+followers:>{min_followers}&per_page=100\"\n",
        "    users = []\n",
        "    while url:\n",
        "        data = make_request(url)\n",
        "        if not data or 'items' not in data:\n",
        "            break\n",
        "        users.extend(data['items'])\n",
        "        url = data.get('next_url', None)\n",
        "        time.sleep(1)  # Delay to avoid rate limiting\n",
        "    return users"
      ],
      "metadata": {
        "id": "HMBWgtQUse7A"
      },
      "execution_count": 3,
      "outputs": []
    },
    {
      "cell_type": "code",
      "source": [
        "def get_user_details(login):\n",
        "    url = f\"{BASE_URL}/users/{login}\"\n",
        "    user_data = make_request(url)\n",
        "    def safe_strip(value):\n",
        "        return value.strip() if isinstance(value, str) else \"\"\n",
        "    return {\n",
        "        \"login\": user_data.get(\"login\", \"\"),\n",
        "        \"name\": safe_strip(user_data.get(\"name\", \"\")),\n",
        "        \"company\": clean_company(user_data.get(\"company\", \"\")),\n",
        "        \"location\": safe_strip(user_data.get(\"location\", \"\")),\n",
        "        \"email\": safe_strip(user_data.get(\"email\", \"\")),\n",
        "        \"hireable\": user_data.get(\"hireable\", False),\n",
        "        \"bio\": safe_strip(user_data.get(\"bio\", \"\")),\n",
        "        \"public_repos\": user_data.get(\"public_repos\", 0),\n",
        "        \"followers\": user_data.get(\"followers\", 0),\n",
        "        \"following\": user_data.get(\"following\", 0),\n",
        "        \"created_at\": safe_strip(user_data.get(\"created_at\", \"\"))\n",
        "    }"
      ],
      "metadata": {
        "id": "ESHwEKSDsm5d"
      },
      "execution_count": 4,
      "outputs": []
    },
    {
      "cell_type": "code",
      "source": [
        "def clean_company(company):\n",
        "    return company.strip('@').strip().upper() if company else \"Unknown\"\n",
        "\n"
      ],
      "metadata": {
        "id": "lGnjboJBtBpB"
      },
      "execution_count": 5,
      "outputs": []
    },
    {
      "cell_type": "code",
      "source": [
        "def get_user_repositories(login, max_repos=500):\n",
        "    repos = []\n",
        "    url = f\"{BASE_URL}/users/{login}/repos?per_page=100\"\n",
        "    while url and len(repos) < max_repos:\n",
        "        data = make_request(url)\n",
        "        if not data:\n",
        "            break\n",
        "        for repo in data:\n",
        "            # Check if the license is not None before trying to access \"key\"\n",
        "            license_name = repo[\"license\"][\"key\"] if repo.get(\"license\") else \"\"\n",
        "            repos.append({\n",
        "                \"login\": login,\n",
        "                \"full_name\": repo[\"full_name\"],\n",
        "                \"created_at\": repo[\"created_at\"],\n",
        "                \"stargazers_count\": repo[\"stargazers_count\"],\n",
        "                \"watchers_count\": repo[\"watchers_count\"],\n",
        "                \"language\": repo.get(\"language\", \"\"),\n",
        "                \"has_projects\": repo.get(\"has_projects\", False),\n",
        "                \"has_wiki\": repo.get(\"has_wiki\", False),\n",
        "                \"license_name\": license_name\n",
        "            })\n",
        "        if len(data) < 100:  # Stop if less than 100 results (end of repos)\n",
        "            break\n",
        "        time.sleep(1)  # Delay to avoid rate limiting\n",
        "    return repos\n",
        "\n"
      ],
      "metadata": {
        "id": "o5pxx2gqtEK1"
      },
      "execution_count": 6,
      "outputs": []
    },
    {
      "cell_type": "code",
      "source": [
        "# Main code to gather and save data\n",
        "users = get_users_in_chennai()\n",
        "user_data = []\n",
        "repo_data = []\n",
        "\n",
        "for user in users:\n",
        "    user_details = get_user_details(user['login'])\n",
        "    user_data.append(user_details)\n",
        "\n",
        "    user_repos = get_user_repositories(user['login'])\n",
        "    repo_data.extend(user_repos)\n",
        "\n",
        "# Save user data to CSV\n",
        "user_df = pd.DataFrame(user_data)\n",
        "user_df.to_csv('users.csv', index=False)\n",
        "\n",
        "# Save repository data to CSV\n",
        "repo_df = pd.DataFrame(repo_data)\n",
        "repo_df.to_csv('repositories.csv', index=False)\n",
        "\n",
        "print(\"Data saved to users.csv and repositories.csv\")"
      ],
      "metadata": {
        "colab": {
          "base_uri": "https://localhost:8080/"
        },
        "id": "PRUqSOzLb5dL",
        "outputId": "33986ea8-30fe-4100-a38f-bdeebf745fc2"
      },
      "execution_count": 7,
      "outputs": [
        {
          "output_type": "stream",
          "name": "stdout",
          "text": [
            "Data saved to users.csv and repositories.csv\n"
          ]
        }
      ]
    }
  ]
}